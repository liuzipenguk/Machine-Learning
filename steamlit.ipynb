{
 "cells": [
  {
   "cell_type": "code",
   "execution_count": null,
   "metadata": {},
   "outputs": [],
   "source": [
    "import streamlit as st\n",
    "import pandas as pd\n",
    "\n",
    "# 初始数据\n",
    "data1 = {\n",
    "    'A': [1, 2, 3],\n",
    "    'B': [4, 5, 6]\n",
    "}\n",
    "\n",
    "data2 = {\n",
    "    'C': [7, 8, 9],\n",
    "    'D': [10, 11, 12]\n",
    "}\n",
    "\n",
    "# 使用session_state保存表格状态\n",
    "if 'show_table1' not in st.session_state:\n",
    "    st.session_state.show_table1 = False\n",
    "if 'show_table2' not in st.session_state:\n",
    "    st.session_state.show_table2 = False\n",
    "\n",
    "# 按钮1\n",
    "if st.button('显示第一个表格'):\n",
    "    st.session_state.show_table1 = True\n",
    "\n",
    "# 显示第一个表格\n",
    "if st.session_state.show_table1:\n",
    "    st.table(pd.DataFrame(data1))\n",
    "\n",
    "# 按钮2\n",
    "if st.button('显示第二个表格'):\n",
    "    st.session_state.show_table2 = True\n",
    "\n",
    "# 显示第二个表格\n",
    "if st.session_state.show_table2:\n",
    "    st.table(pd.DataFrame(data2))\n"
   ]
  }
 ],
 "metadata": {
  "language_info": {
   "name": "python"
  }
 },
 "nbformat": 4,
 "nbformat_minor": 2
}
