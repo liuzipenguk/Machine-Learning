{
  "nbformat": 4,
  "nbformat_minor": 0,
  "metadata": {
    "colab": {
      "provenance": []
    },
    "kernelspec": {
      "name": "python3",
      "display_name": "Python 3"
    }
  },
  "cells": [
    {
      "metadata": {
        "id": "I23aoTZoXc9P",
        "colab": {
          "base_uri": "https://localhost:8080/",
          "height": 34
        },
        "outputId": "0fedbfe5-815e-4947-b2a2-29be8468434c"
      },
      "cell_type": "code",
      "source": [
        "import numpy as np\n",
        "\n",
        "#import the keras functions\n",
        "from keras.preprocessing import sequence\n",
        "from keras.models import Model, Sequential\n",
        "from keras.layers import  Input, Embedding, Dense, LSTM\n",
        "from keras.optimizers import Adam\n",
        "\n",
        "#import the IMDB dataset\n",
        "from keras.datasets import imdb"
      ],
      "execution_count": null,
      "outputs": [
        {
          "output_type": "stream",
          "text": [
            "Using TensorFlow backend.\n"
          ],
          "name": "stderr"
        }
      ]
    },
    {
      "metadata": {
        "id": "ug75B3caXjul",
        "colab": {
          "base_uri": "https://localhost:8080/",
          "height": 50
        },
        "outputId": "81614a24-9d7e-430a-fd59-22e3d22ddb13"
      },
      "cell_type": "code",
      "source": [
        "num_words = 20000\n",
        "maxlen = 200\n",
        "\n",
        "(x_train, y_train), (x_test, y_test) = imdb.load_data(num_words=num_words)\n",
        "\n",
        "\n",
        "#Preprocess the data so the same length (padding as necessary)\n",
        "x_train = sequence.pad_sequences(x_train, maxlen=maxlen)\n",
        "x_test = sequence.pad_sequences(x_test, maxlen=maxlen)\n"
      ],
      "execution_count": null,
      "outputs": [
        {
          "output_type": "stream",
          "text": [
            "Downloading data from https://s3.amazonaws.com/text-datasets/imdb.npz\n",
            "17465344/17464789 [==============================] - 1s 0us/step\n"
          ],
          "name": "stdout"
        }
      ]
    },
    {
      "metadata": {
        "id": "auiCeVC3aw0V"
      },
      "cell_type": "code",
      "source": [
        "def initLSTM():\n",
        "  lstm = Sequential()\n",
        "  lstm.add(Embedding(num_words, 128))\n",
        "  lstm.add(LSTM(128, recurrent_dropout = 0.2))\n",
        "  lstm.add(Dense(1, activation='sigmoid'))\n",
        "  return lstm"
      ],
      "execution_count": null,
      "outputs": []
    },
    {
      "metadata": {
        "id": "pb2ht1VcgRNA",
        "colab": {
          "base_uri": "https://localhost:8080/",
          "height": 356
        },
        "outputId": "00d79306-875a-4de9-e15a-55bb423c46a3"
      },
      "cell_type": "code",
      "source": [
        "lstm = initLSTM()\n",
        "lstm.summary() #print the description of the layers in the model"
      ],
      "execution_count": null,
      "outputs": [
        {
          "output_type": "stream",
          "text": [
            "WARNING:tensorflow:From /usr/local/lib/python3.6/dist-packages/tensorflow/python/framework/op_def_library.py:263: colocate_with (from tensorflow.python.framework.ops) is deprecated and will be removed in a future version.\n",
            "Instructions for updating:\n",
            "Colocations handled automatically by placer.\n",
            "WARNING:tensorflow:From /usr/local/lib/python3.6/dist-packages/keras/backend/tensorflow_backend.py:3445: calling dropout (from tensorflow.python.ops.nn_ops) with keep_prob is deprecated and will be removed in a future version.\n",
            "Instructions for updating:\n",
            "Please use `rate` instead of `keep_prob`. Rate should be set to `rate = 1 - keep_prob`.\n",
            "_________________________________________________________________\n",
            "Layer (type)                 Output Shape              Param #   \n",
            "=================================================================\n",
            "embedding_1 (Embedding)      (None, None, 128)         2560000   \n",
            "_________________________________________________________________\n",
            "lstm_1 (LSTM)                (None, 128)               131584    \n",
            "_________________________________________________________________\n",
            "dense_1 (Dense)              (None, 1)                 129       \n",
            "=================================================================\n",
            "Total params: 2,691,713\n",
            "Trainable params: 2,691,713\n",
            "Non-trainable params: 0\n",
            "_________________________________________________________________\n"
          ],
          "name": "stdout"
        }
      ]
    },
    {
      "metadata": {
        "id": "qha9Ykssgbyy"
      },
      "cell_type": "code",
      "source": [
        "lstm.compile(loss='binary_crossentropy',\n",
        "  optimizer='adam',\n",
        "   metrics=['accuracy'])"
      ],
      "execution_count": null,
      "outputs": []
    },
    {
      "metadata": {
        "id": "u6Yfsqwvgh5i",
        "colab": {
          "base_uri": "https://localhost:8080/",
          "height": 67
        },
        "outputId": "6eaa709d-2f76-4f84-afb4-ce4ff34fc305"
      },
      "cell_type": "code",
      "source": [
        "lstm.fit(x=x_train, y=y_train, epochs=5, batch_size=4, validation_data=(x_test, y_test))"
      ],
      "execution_count": null,
      "outputs": [
        {
          "output_type": "stream",
          "text": [
            "Train on 25000 samples, validate on 25000 samples\n",
            "Epoch 1/5\n",
            " 2388/25000 [=>............................] - ETA: 17:41 - loss: 0.4693 - acc: 0.8003"
          ],
          "name": "stdout"
        }
      ]
    },
    {
      "metadata": {
        "id": "Uc4hQkh-grT_"
      },
      "cell_type": "code",
      "source": [
        "loss, acc = lstm.evaluate(x=x_test, y=y_test,batchsize=4)\n",
        "print(\"Test accuracy: \" + str(acc))"
      ],
      "execution_count": null,
      "outputs": []
    },
    {
      "metadata": {
        "id": "_-pAQM6jh0Ix"
      },
      "cell_type": "code",
      "source": [
        "#create a mapping from the index to the word\n",
        "idx_to_word = {(v+3):k for k,v in imdb.get_word_index().items()}\n",
        "idx_to_word.update({0:\"<PAD>\", 1: \"<START>\", 2: \"<UNK>\",3:\"<UNUSED>\"}) #first 3 indices are special tokens \n",
        "\n",
        "vocab_size = np.max(list(idx_to_word.keys()))\n",
        "\n",
        "\n",
        "#this is a helper function - good to debug performance of model during training\n",
        "def print_review(x):\n",
        "    text = \"\"\n",
        "    for idx in x:\n",
        "        text += idx_to_word.get(idx, \"<UNK>\") + \" \" #if word not in dictionary it is unknown\n",
        "    print(text)"
      ],
      "execution_count": null,
      "outputs": []
    },
    {
      "cell_type": "code",
      "source": [],
      "metadata": {
        "id": "rOpwy2yMIJg_"
      },
      "execution_count": null,
      "outputs": []
    },
    {
      "cell_type": "code",
      "source": [],
      "metadata": {
        "id": "qbwPURQGIJ7J"
      },
      "execution_count": null,
      "outputs": []
    },
    {
      "cell_type": "code",
      "source": [
        "header = [str(x) for x in range(4,0,-1)]\n",
        "header\n",
        "import pandas as pd\n",
        "import numpy as np\n",
        "\n",
        "df = pd.DataFrame()\n",
        "for j in range(len(header)):\n",
        "  a = np.random.rand(500,1)\n",
        "  col = list()\n",
        "  for i in range(len(a)):\n",
        "    col.append(a[i][0])\n",
        "\n",
        "  df[header[j]] = col\n"
      ],
      "metadata": {
        "id": "-0ifb_948Ld4"
      },
      "execution_count": 105,
      "outputs": []
    },
    {
      "cell_type": "code",
      "source": [
        "df.head()\n",
        "# type(df)"
      ],
      "metadata": {
        "colab": {
          "base_uri": "https://localhost:8080/",
          "height": 206
        },
        "id": "sD51fJDo-B9S",
        "outputId": "cc78c920-29c4-48df-c6aa-269a3551bc37"
      },
      "execution_count": 106,
      "outputs": [
        {
          "output_type": "execute_result",
          "data": {
            "text/plain": [
              "          4         3         2         1\n",
              "0  0.914232  0.449975  0.888174  0.817051\n",
              "1  0.627660  0.975522  0.269797  0.236151\n",
              "2  0.895874  0.695014  0.274204  0.203105\n",
              "3  0.983079  0.308957  0.370034  0.783709\n",
              "4  0.945847  0.909874  0.028680  0.956228"
            ],
            "text/html": [
              "\n",
              "  <div id=\"df-bb264928-4107-4567-8f72-8044dee4118d\">\n",
              "    <div class=\"colab-df-container\">\n",
              "      <div>\n",
              "<style scoped>\n",
              "    .dataframe tbody tr th:only-of-type {\n",
              "        vertical-align: middle;\n",
              "    }\n",
              "\n",
              "    .dataframe tbody tr th {\n",
              "        vertical-align: top;\n",
              "    }\n",
              "\n",
              "    .dataframe thead th {\n",
              "        text-align: right;\n",
              "    }\n",
              "</style>\n",
              "<table border=\"1\" class=\"dataframe\">\n",
              "  <thead>\n",
              "    <tr style=\"text-align: right;\">\n",
              "      <th></th>\n",
              "      <th>4</th>\n",
              "      <th>3</th>\n",
              "      <th>2</th>\n",
              "      <th>1</th>\n",
              "    </tr>\n",
              "  </thead>\n",
              "  <tbody>\n",
              "    <tr>\n",
              "      <th>0</th>\n",
              "      <td>0.914232</td>\n",
              "      <td>0.449975</td>\n",
              "      <td>0.888174</td>\n",
              "      <td>0.817051</td>\n",
              "    </tr>\n",
              "    <tr>\n",
              "      <th>1</th>\n",
              "      <td>0.627660</td>\n",
              "      <td>0.975522</td>\n",
              "      <td>0.269797</td>\n",
              "      <td>0.236151</td>\n",
              "    </tr>\n",
              "    <tr>\n",
              "      <th>2</th>\n",
              "      <td>0.895874</td>\n",
              "      <td>0.695014</td>\n",
              "      <td>0.274204</td>\n",
              "      <td>0.203105</td>\n",
              "    </tr>\n",
              "    <tr>\n",
              "      <th>3</th>\n",
              "      <td>0.983079</td>\n",
              "      <td>0.308957</td>\n",
              "      <td>0.370034</td>\n",
              "      <td>0.783709</td>\n",
              "    </tr>\n",
              "    <tr>\n",
              "      <th>4</th>\n",
              "      <td>0.945847</td>\n",
              "      <td>0.909874</td>\n",
              "      <td>0.028680</td>\n",
              "      <td>0.956228</td>\n",
              "    </tr>\n",
              "  </tbody>\n",
              "</table>\n",
              "</div>\n",
              "      <button class=\"colab-df-convert\" onclick=\"convertToInteractive('df-bb264928-4107-4567-8f72-8044dee4118d')\"\n",
              "              title=\"Convert this dataframe to an interactive table.\"\n",
              "              style=\"display:none;\">\n",
              "        \n",
              "  <svg xmlns=\"http://www.w3.org/2000/svg\" height=\"24px\"viewBox=\"0 0 24 24\"\n",
              "       width=\"24px\">\n",
              "    <path d=\"M0 0h24v24H0V0z\" fill=\"none\"/>\n",
              "    <path d=\"M18.56 5.44l.94 2.06.94-2.06 2.06-.94-2.06-.94-.94-2.06-.94 2.06-2.06.94zm-11 1L8.5 8.5l.94-2.06 2.06-.94-2.06-.94L8.5 2.5l-.94 2.06-2.06.94zm10 10l.94 2.06.94-2.06 2.06-.94-2.06-.94-.94-2.06-.94 2.06-2.06.94z\"/><path d=\"M17.41 7.96l-1.37-1.37c-.4-.4-.92-.59-1.43-.59-.52 0-1.04.2-1.43.59L10.3 9.45l-7.72 7.72c-.78.78-.78 2.05 0 2.83L4 21.41c.39.39.9.59 1.41.59.51 0 1.02-.2 1.41-.59l7.78-7.78 2.81-2.81c.8-.78.8-2.07 0-2.86zM5.41 20L4 18.59l7.72-7.72 1.47 1.35L5.41 20z\"/>\n",
              "  </svg>\n",
              "      </button>\n",
              "      \n",
              "  <style>\n",
              "    .colab-df-container {\n",
              "      display:flex;\n",
              "      flex-wrap:wrap;\n",
              "      gap: 12px;\n",
              "    }\n",
              "\n",
              "    .colab-df-convert {\n",
              "      background-color: #E8F0FE;\n",
              "      border: none;\n",
              "      border-radius: 50%;\n",
              "      cursor: pointer;\n",
              "      display: none;\n",
              "      fill: #1967D2;\n",
              "      height: 32px;\n",
              "      padding: 0 0 0 0;\n",
              "      width: 32px;\n",
              "    }\n",
              "\n",
              "    .colab-df-convert:hover {\n",
              "      background-color: #E2EBFA;\n",
              "      box-shadow: 0px 1px 2px rgba(60, 64, 67, 0.3), 0px 1px 3px 1px rgba(60, 64, 67, 0.15);\n",
              "      fill: #174EA6;\n",
              "    }\n",
              "\n",
              "    [theme=dark] .colab-df-convert {\n",
              "      background-color: #3B4455;\n",
              "      fill: #D2E3FC;\n",
              "    }\n",
              "\n",
              "    [theme=dark] .colab-df-convert:hover {\n",
              "      background-color: #434B5C;\n",
              "      box-shadow: 0px 1px 3px 1px rgba(0, 0, 0, 0.15);\n",
              "      filter: drop-shadow(0px 1px 2px rgba(0, 0, 0, 0.3));\n",
              "      fill: #FFFFFF;\n",
              "    }\n",
              "  </style>\n",
              "\n",
              "      <script>\n",
              "        const buttonEl =\n",
              "          document.querySelector('#df-bb264928-4107-4567-8f72-8044dee4118d button.colab-df-convert');\n",
              "        buttonEl.style.display =\n",
              "          google.colab.kernel.accessAllowed ? 'block' : 'none';\n",
              "\n",
              "        async function convertToInteractive(key) {\n",
              "          const element = document.querySelector('#df-bb264928-4107-4567-8f72-8044dee4118d');\n",
              "          const dataTable =\n",
              "            await google.colab.kernel.invokeFunction('convertToInteractive',\n",
              "                                                     [key], {});\n",
              "          if (!dataTable) return;\n",
              "\n",
              "          const docLinkHtml = 'Like what you see? Visit the ' +\n",
              "            '<a target=\"_blank\" href=https://colab.research.google.com/notebooks/data_table.ipynb>data table notebook</a>'\n",
              "            + ' to learn more about interactive tables.';\n",
              "          element.innerHTML = '';\n",
              "          dataTable['output_type'] = 'display_data';\n",
              "          await google.colab.output.renderOutput(dataTable, element);\n",
              "          const docLink = document.createElement('div');\n",
              "          docLink.innerHTML = docLinkHtml;\n",
              "          element.appendChild(docLink);\n",
              "        }\n",
              "      </script>\n",
              "    </div>\n",
              "  </div>\n",
              "  "
            ]
          },
          "metadata": {},
          "execution_count": 106
        }
      ]
    },
    {
      "cell_type": "code",
      "source": [
        "train_X = df.values\n",
        "print(train_X.shape)\n",
        "train_X"
      ],
      "metadata": {
        "colab": {
          "base_uri": "https://localhost:8080/"
        },
        "id": "_ZjK7Vd1Di8P",
        "outputId": "3c215f9a-da96-40a2-91e4-6f25545ed9ef"
      },
      "execution_count": 107,
      "outputs": [
        {
          "output_type": "stream",
          "name": "stdout",
          "text": [
            "(500, 4)\n"
          ]
        },
        {
          "output_type": "execute_result",
          "data": {
            "text/plain": [
              "array([[0.91423239, 0.44997525, 0.88817422, 0.81705074],\n",
              "       [0.62766038, 0.97552212, 0.26979694, 0.23615149],\n",
              "       [0.89587355, 0.69501373, 0.27420387, 0.20310503],\n",
              "       ...,\n",
              "       [0.60744799, 0.12673923, 0.42173103, 0.48998386],\n",
              "       [0.65068779, 0.46760273, 0.41515708, 0.05341863],\n",
              "       [0.56512672, 0.1966751 , 0.54883164, 0.47247559]])"
            ]
          },
          "metadata": {},
          "execution_count": 107
        }
      ]
    },
    {
      "cell_type": "code",
      "source": [
        "train_y = train_X[:, -1]\n",
        "train_y.shape"
      ],
      "metadata": {
        "colab": {
          "base_uri": "https://localhost:8080/"
        },
        "id": "npa58busJwao",
        "outputId": "3abfd4f8-ae3a-49b2-f092-6cafca0604aa"
      },
      "execution_count": 109,
      "outputs": [
        {
          "output_type": "execute_result",
          "data": {
            "text/plain": [
              "(500,)"
            ]
          },
          "metadata": {},
          "execution_count": 109
        }
      ]
    },
    {
      "cell_type": "code",
      "source": [
        "print(train_X.shape)\n",
        "train_X = train_X.reshape((250, 2, 4))\n",
        "print(train_X.shape)"
      ],
      "metadata": {
        "colab": {
          "base_uri": "https://localhost:8080/"
        },
        "id": "QkRXWkjSBZry",
        "outputId": "bbedb984-0033-439a-a20e-6066fbb2f094"
      },
      "execution_count": 110,
      "outputs": [
        {
          "output_type": "stream",
          "name": "stdout",
          "text": [
            "(500, 4)\n",
            "(250, 2, 4)\n"
          ]
        }
      ]
    },
    {
      "cell_type": "code",
      "source": [
        "# train_y = train_X[:, :-1]\n",
        "train_y.shape"
      ],
      "metadata": {
        "colab": {
          "base_uri": "https://localhost:8080/"
        },
        "id": "s6VtI7QGIPGJ",
        "outputId": "81a5ff6d-319e-4e3f-aee0-9d98df3e3639"
      },
      "execution_count": 111,
      "outputs": [
        {
          "output_type": "execute_result",
          "data": {
            "text/plain": [
              "(500,)"
            ]
          },
          "metadata": {},
          "execution_count": 111
        }
      ]
    },
    {
      "cell_type": "code",
      "source": [
        "import sys \n",
        "import numpy as np # linear algebra\n",
        "from scipy.stats import randint\n",
        "import pandas as pd # data processing, CSV file I/O (e.g. pd.read_csv), data manipulation as in SQL\n",
        "import matplotlib.pyplot as plt # this is used for the plot the graph \n",
        "import seaborn as sns # used for plot interactive graph. \n",
        "from sklearn.model_selection import train_test_split # to split the data into two parts\n",
        "# from sklearn.cross_validation import KFold # use for cross validation\n",
        "from sklearn.preprocessing import StandardScaler # for normalization\n",
        "from sklearn.preprocessing import MinMaxScaler\n",
        "from sklearn.pipeline import Pipeline # pipeline making\n",
        "from sklearn.model_selection import cross_val_score\n",
        "from sklearn.feature_selection import SelectFromModel\n",
        "from sklearn import metrics # for the check the error and accuracy of the model\n",
        "from sklearn.metrics import mean_squared_error,r2_score\n",
        "\n",
        "## for Deep-learing:\n",
        "import keras\n",
        "from keras.layers import Dense\n",
        "from keras.models import Sequential\n",
        "from keras.utils import to_categorical\n",
        "from keras.optimizers import SGD \n",
        "from keras.callbacks import EarlyStopping\n",
        "from keras.utils import np_utils\n",
        "import itertools\n",
        "from keras.layers import LSTM\n",
        "from keras.layers.convolutional import Conv1D\n",
        "from keras.layers.convolutional import MaxPooling1D\n",
        "from keras.layers import Dropout"
      ],
      "metadata": {
        "id": "ibMoWXH-DusX"
      },
      "execution_count": 86,
      "outputs": []
    },
    {
      "cell_type": "code",
      "source": [
        "model = Sequential()\n",
        "model.add(LSTM(100, input_shape=(train_X.shape[1], train_X.shape[2])))\n",
        "model.add(Dropout(0.2))\n",
        "#    model.add(LSTM(70))\n",
        "#    model.add(Dropout(0.3))\n",
        "model.add(Dense(1))\n",
        "model.compile(loss='mean_squared_error', optimizer='adam')\n",
        "model.summary()"
      ],
      "metadata": {
        "colab": {
          "base_uri": "https://localhost:8080/"
        },
        "id": "ZAAFxgQ9G5-K",
        "outputId": "e63a7d04-b741-457e-e212-400609786edf"
      },
      "execution_count": 114,
      "outputs": [
        {
          "output_type": "stream",
          "name": "stdout",
          "text": [
            "Model: \"sequential_1\"\n",
            "_________________________________________________________________\n",
            " Layer (type)                Output Shape              Param #   \n",
            "=================================================================\n",
            " lstm_1 (LSTM)               (None, 100)               42000     \n",
            "                                                                 \n",
            " dropout_1 (Dropout)         (None, 100)               0         \n",
            "                                                                 \n",
            " dense_1 (Dense)             (None, 1)                 101       \n",
            "                                                                 \n",
            "=================================================================\n",
            "Total params: 42,101\n",
            "Trainable params: 42,101\n",
            "Non-trainable params: 0\n",
            "_________________________________________________________________\n"
          ]
        }
      ]
    },
    {
      "cell_type": "code",
      "source": [
        "# fit network\n",
        "history = model.fit(train_X, train_y[], epochs=20, batch_size=70, validation_split = 0.01, verbose=2, shuffle=False)\n",
        "\n",
        "# summarize history for loss\n",
        "plt.plot(history.history['loss'])\n",
        "plt.plot(history.history['val_loss'])\n",
        "plt.title('model loss')\n",
        "plt.ylabel('loss')\n",
        "plt.xlabel('epoch')\n",
        "plt.legend(['train', 'test'], loc='upper right')\n",
        "plt.show()"
      ],
      "metadata": {
        "colab": {
          "base_uri": "https://localhost:8080/",
          "height": 1000
        },
        "id": "MkekICUDHZZA",
        "outputId": "6812280c-1a96-4e77-a499-5017277e7586"
      },
      "execution_count": 113,
      "outputs": [
        {
          "output_type": "stream",
          "name": "stdout",
          "text": [
            "Epoch 1/20\n",
            "4/4 - 7s - loss: 0.4174 - val_loss: 0.2407 - 7s/epoch - 2s/step\n",
            "Epoch 2/20\n",
            "4/4 - 0s - loss: 0.3201 - val_loss: 0.1859 - 69ms/epoch - 17ms/step\n",
            "Epoch 3/20\n",
            "4/4 - 0s - loss: 0.2361 - val_loss: 0.1442 - 57ms/epoch - 14ms/step\n",
            "Epoch 4/20\n",
            "4/4 - 0s - loss: 0.1747 - val_loss: 0.1164 - 56ms/epoch - 14ms/step\n",
            "Epoch 5/20\n",
            "4/4 - 0s - loss: 0.1275 - val_loss: 0.1032 - 55ms/epoch - 14ms/step\n",
            "Epoch 6/20\n",
            "4/4 - 0s - loss: 0.0993 - val_loss: 0.1040 - 60ms/epoch - 15ms/step\n",
            "Epoch 7/20\n",
            "4/4 - 0s - loss: 0.0959 - val_loss: 0.1133 - 59ms/epoch - 15ms/step\n",
            "Epoch 8/20\n",
            "4/4 - 0s - loss: 0.0966 - val_loss: 0.1208 - 65ms/epoch - 16ms/step\n",
            "Epoch 9/20\n",
            "4/4 - 0s - loss: 0.0980 - val_loss: 0.1200 - 86ms/epoch - 21ms/step\n",
            "Epoch 10/20\n",
            "4/4 - 0s - loss: 0.1005 - val_loss: 0.1134 - 70ms/epoch - 17ms/step\n",
            "Epoch 11/20\n",
            "4/4 - 0s - loss: 0.0956 - val_loss: 0.1066 - 65ms/epoch - 16ms/step\n",
            "Epoch 12/20\n",
            "4/4 - 0s - loss: 0.0921 - val_loss: 0.1021 - 67ms/epoch - 17ms/step\n",
            "Epoch 13/20\n",
            "4/4 - 0s - loss: 0.0923 - val_loss: 0.0997 - 79ms/epoch - 20ms/step\n",
            "Epoch 14/20\n",
            "4/4 - 0s - loss: 0.0932 - val_loss: 0.0984 - 67ms/epoch - 17ms/step\n",
            "Epoch 15/20\n",
            "4/4 - 0s - loss: 0.0898 - val_loss: 0.0980 - 67ms/epoch - 17ms/step\n",
            "Epoch 16/20\n",
            "4/4 - 0s - loss: 0.0930 - val_loss: 0.0981 - 82ms/epoch - 21ms/step\n",
            "Epoch 17/20\n",
            "4/4 - 0s - loss: 0.0885 - val_loss: 0.0986 - 62ms/epoch - 16ms/step\n",
            "Epoch 18/20\n",
            "4/4 - 0s - loss: 0.0875 - val_loss: 0.0991 - 62ms/epoch - 16ms/step\n",
            "Epoch 19/20\n",
            "4/4 - 0s - loss: 0.0889 - val_loss: 0.0992 - 75ms/epoch - 19ms/step\n",
            "Epoch 20/20\n",
            "4/4 - 0s - loss: 0.0908 - val_loss: 0.0987 - 64ms/epoch - 16ms/step\n"
          ]
        },
        {
          "output_type": "display_data",
          "data": {
            "text/plain": [
              "<Figure size 640x480 with 1 Axes>"
            ],
            "image/png": "[encoded data removed]"
          },
          "metadata": {}
        }
      ]
    },
    {
      "cell_type": "code",
      "source": [],
      "metadata": {
        "id": "oKa2oaXiHpbi"
      },
      "execution_count": null,
      "outputs": []
    }
  ]
}